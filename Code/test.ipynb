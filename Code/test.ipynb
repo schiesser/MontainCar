{
 "cells": [
  {
   "cell_type": "markdown",
   "metadata": {},
   "source": [
    "# Mountain Car Miniproject Notebook"
   ]
  },
  {
   "cell_type": "code",
   "execution_count": 1,
   "metadata": {},
   "outputs": [],
   "source": [
    "from RandomAgent import RandomAgent\n",
    "from DQNAgent import DQNAgent\n",
    "import matplotlib.pyplot as plt\n",
    "import gymnasium as gym\n",
    "from collections import namedtuple, deque\n",
    "import numpy as np\n",
    "env = gym.make('MountainCar-v0')"
   ]
  },
  {
   "cell_type": "markdown",
   "metadata": {},
   "source": [
    "## Random Agent"
   ]
  },
  {
   "cell_type": "markdown",
   "metadata": {},
   "source": [
    "### Single random agent"
   ]
  },
  {
   "cell_type": "raw",
   "metadata": {},
   "source": [
    "test = RandomAgent(env)"
   ]
  },
  {
   "cell_type": "raw",
   "metadata": {},
   "source": [
    "test.run()"
   ]
  },
  {
   "cell_type": "raw",
   "metadata": {},
   "source": [
    "states = [ e[0] for e in test.observations]"
   ]
  },
  {
   "cell_type": "raw",
   "metadata": {},
   "source": [
    "states[1].shape"
   ]
  },
  {
   "cell_type": "raw",
   "metadata": {},
   "source": [
    "plt.plot(states)"
   ]
  },
  {
   "cell_type": "markdown",
   "metadata": {},
   "source": [
    "### Multiple random agent "
   ]
  },
  {
   "cell_type": "raw",
   "metadata": {},
   "source": [
    "num_episode=100\n",
    "episode_duration=[]\n",
    "for ep in range(num_episode):\n",
    "    new_random_agent = RandomAgent(env)\n",
    "    _ = new_random_agent.run()\n",
    "    duration = len(new_random_agent.observations)\n",
    "    episode_duration.append(duration)"
   ]
  },
  {
   "cell_type": "raw",
   "metadata": {},
   "source": [
    "plt.scatter(range(num_episode),episode_duration)"
   ]
  },
  {
   "cell_type": "markdown",
   "metadata": {},
   "source": [
    "## DQN Agent"
   ]
  },
  {
   "cell_type": "markdown",
   "metadata": {},
   "source": [
    "### heuristic reward function"
   ]
  },
  {
   "cell_type": "code",
   "execution_count": 2,
   "metadata": {},
   "outputs": [],
   "source": [
    "Transition = namedtuple('Transition',\n",
    "                        ('state', 'action', 'next_state', 'reward'))"
   ]
  },
  {
   "cell_type": "code",
   "execution_count": 3,
   "metadata": {},
   "outputs": [],
   "source": [
    "list_discount_factor = [0.95, 0.99]\n",
    "list_epsilon_decay = [50, 150]\n",
    "list_global_reward_factor = [0.5, 1]\n",
    "list_criterion = [\"MSE\", \"L1\"]"
   ]
  },
  {
   "cell_type": "code",
   "execution_count": 4,
   "metadata": {},
   "outputs": [
    {
     "name": "stdout",
     "output_type": "stream",
     "text": [
      "------------------------------------------\n",
      "We will log this experiment in directory ./DQN/@e_decay=50@disc_factor=0.95@global_reward=0.5@crit=MSE@20240521-191117\n",
      "------------------------------------------\n",
      "------------------------------------------\n",
      "We will log this experiment in directory ./DQN/@e_decay=50@disc_factor=0.95@global_reward=0.5@crit=L1@20240521-192337\n",
      "------------------------------------------\n",
      "------------------------------------------\n",
      "We will log this experiment in directory ./DQN/@e_decay=50@disc_factor=0.95@global_reward=1@crit=MSE@20240521-193555\n",
      "------------------------------------------\n",
      "------------------------------------------\n",
      "We will log this experiment in directory ./DQN/@e_decay=50@disc_factor=0.95@global_reward=1@crit=L1@20240521-194802\n",
      "------------------------------------------\n",
      "------------------------------------------\n",
      "We will log this experiment in directory ./DQN/@e_decay=150@disc_factor=0.95@global_reward=0.5@crit=MSE@20240521-200006\n",
      "------------------------------------------\n",
      "------------------------------------------\n",
      "We will log this experiment in directory ./DQN/@e_decay=150@disc_factor=0.95@global_reward=0.5@crit=L1@20240521-201204\n",
      "------------------------------------------\n",
      "------------------------------------------\n",
      "We will log this experiment in directory ./DQN/@e_decay=150@disc_factor=0.95@global_reward=1@crit=MSE@20240521-202417\n",
      "------------------------------------------\n",
      "------------------------------------------\n",
      "We will log this experiment in directory ./DQN/@e_decay=150@disc_factor=0.95@global_reward=1@crit=L1@20240521-203613\n",
      "------------------------------------------\n",
      "------------------------------------------\n",
      "We will log this experiment in directory ./DQN/@e_decay=50@disc_factor=0.99@global_reward=0.5@crit=MSE@20240521-204816\n",
      "------------------------------------------\n",
      "------------------------------------------\n",
      "We will log this experiment in directory ./DQN/@e_decay=50@disc_factor=0.99@global_reward=0.5@crit=L1@20240521-210117\n",
      "------------------------------------------\n",
      "------------------------------------------\n",
      "We will log this experiment in directory ./DQN/@e_decay=50@disc_factor=0.99@global_reward=1@crit=MSE@20240521-211405\n",
      "------------------------------------------\n",
      "------------------------------------------\n",
      "We will log this experiment in directory ./DQN/@e_decay=50@disc_factor=0.99@global_reward=1@crit=L1@20240521-212619\n",
      "------------------------------------------\n",
      "------------------------------------------\n",
      "We will log this experiment in directory ./DQN/@e_decay=150@disc_factor=0.99@global_reward=0.5@crit=MSE@20240521-213843\n",
      "------------------------------------------\n",
      "------------------------------------------\n",
      "We will log this experiment in directory ./DQN/@e_decay=150@disc_factor=0.99@global_reward=0.5@crit=L1@20240521-215244\n",
      "------------------------------------------\n",
      "------------------------------------------\n",
      "We will log this experiment in directory ./DQN/@e_decay=150@disc_factor=0.99@global_reward=1@crit=MSE@20240521-220536\n",
      "------------------------------------------\n",
      "------------------------------------------\n",
      "We will log this experiment in directory ./DQN/@e_decay=150@disc_factor=0.99@global_reward=1@crit=L1@20240521-221811\n",
      "------------------------------------------\n"
     ]
    }
   ],
   "source": [
    "for discount_factor in list_discount_factor:\n",
    "    for epsilon_decay in list_epsilon_decay:\n",
    "                for global_reward_factor in list_global_reward_factor:\n",
    "                    for criterion in list_criterion:\n",
    "                        testDQN = DQNAgent(\n",
    "                            env,\n",
    "                            discount_factor=discount_factor,\n",
    "                            epsilon_decay=epsilon_decay,\n",
    "                            heuristic_reward=True,\n",
    "                            global_reward_factor=global_reward_factor,\n",
    "                            criterion=criterion\n",
    "                        )\n",
    "                        testDQN.run(3000, 64, 0.005)"
   ]
  },
  {
   "cell_type": "raw",
   "metadata": {
    "scrolled": true
   },
   "source": [
    "environnement_reward, auxiliary_reward, total_reward= testDQN.run(1000, 32, 0.005) #hyperparameter : parameter in the select_action !, try multiple scale of the reward, and then the classics for neural net..."
   ]
  },
  {
   "cell_type": "raw",
   "metadata": {},
   "source": [
    "cumulative_environnement_reward = np.cumsum(environnement_reward)\n",
    "cumulative_total_reward = np.cumsum(total_reward)\n",
    "cumulative_auxiliary_reward = np.cumsum(auxiliary_reward)"
   ]
  },
  {
   "cell_type": "raw",
   "metadata": {},
   "source": [
    "plt.plot(testDQN.observations)"
   ]
  },
  {
   "cell_type": "raw",
   "metadata": {
    "scrolled": true
   },
   "source": [
    "plt.plot(environnement_reward)"
   ]
  },
  {
   "cell_type": "raw",
   "metadata": {
    "scrolled": true
   },
   "source": [
    "plt.plot(cumulative_environnement_reward)"
   ]
  },
  {
   "cell_type": "raw",
   "metadata": {
    "scrolled": true
   },
   "source": [
    "plt.plot(total_reward)"
   ]
  },
  {
   "cell_type": "raw",
   "metadata": {},
   "source": [
    "plt.plot(cumulative_total_reward)"
   ]
  },
  {
   "cell_type": "raw",
   "metadata": {},
   "source": [
    "plt.plot(auxiliary_reward)"
   ]
  },
  {
   "cell_type": "raw",
   "metadata": {},
   "source": [
    "plt.plot(cumulative_auxiliary_reward)"
   ]
  },
  {
   "cell_type": "raw",
   "metadata": {},
   "source": [
    "nb_episode = 1000\n",
    "success = np.zeros((nb_episode))\n",
    "success[(environnement_reward>-200)]=1\n",
    "cumul_success = np.cumsum(success)\n",
    "plt.plot(cumul_success)"
   ]
  },
  {
   "cell_type": "markdown",
   "metadata": {},
   "source": [
    "### RND reward"
   ]
  },
  {
   "cell_type": "code",
   "execution_count": 3,
   "metadata": {},
   "outputs": [],
   "source": [
    "list_discount_factor = [0.95, 0.99]\n",
    "list_epsilon_decay = [50, 150]\n",
    "list_global_reward_factor = [0.25, 0.5, 1]\n",
    "list_criterion = [\"MSE\", \"L1\"]\n",
    "list_neurons_RND = [16, 32, 64]"
   ]
  },
  {
   "cell_type": "code",
   "execution_count": null,
   "metadata": {},
   "outputs": [
    {
     "name": "stdout",
     "output_type": "stream",
     "text": [
      "------------------------------------------\n",
      "We will log this experiment in directory ./DQN_RND/@e_decay=50@disc_factor=0.95@global_reward=0.25@crit=MSE@20240521-224137\n",
      "------------------------------------------\n",
      "------------------------------------------\n",
      "We will log this experiment in directory ./DQN_RND/@e_decay=50@disc_factor=0.95@global_reward=0.25@crit=MSE@20240521-231013\n",
      "------------------------------------------\n",
      "------------------------------------------\n",
      "We will log this experiment in directory ./DQN_RND/@e_decay=50@disc_factor=0.95@global_reward=0.25@crit=MSE@20240521-234134\n",
      "------------------------------------------\n",
      "------------------------------------------\n",
      "We will log this experiment in directory ./DQN_RND/@e_decay=50@disc_factor=0.95@global_reward=0.25@crit=L1@20240522-001708\n",
      "------------------------------------------\n",
      "------------------------------------------\n",
      "We will log this experiment in directory ./DQN_RND/@e_decay=50@disc_factor=0.95@global_reward=0.25@crit=L1@20240522-004552\n",
      "------------------------------------------\n",
      "------------------------------------------\n",
      "We will log this experiment in directory ./DQN_RND/@e_decay=50@disc_factor=0.95@global_reward=0.25@crit=L1@20240522-011736\n",
      "------------------------------------------\n",
      "------------------------------------------\n",
      "We will log this experiment in directory ./DQN_RND/@e_decay=50@disc_factor=0.95@global_reward=0.5@crit=MSE@20240522-015319\n",
      "------------------------------------------\n",
      "------------------------------------------\n",
      "We will log this experiment in directory ./DQN_RND/@e_decay=50@disc_factor=0.95@global_reward=0.5@crit=MSE@20240522-022201\n",
      "------------------------------------------\n",
      "------------------------------------------\n",
      "We will log this experiment in directory ./DQN_RND/@e_decay=50@disc_factor=0.95@global_reward=0.5@crit=MSE@20240522-025334\n",
      "------------------------------------------\n",
      "------------------------------------------\n",
      "We will log this experiment in directory ./DQN_RND/@e_decay=50@disc_factor=0.95@global_reward=0.5@crit=L1@20240522-032905\n",
      "------------------------------------------\n",
      "------------------------------------------\n",
      "We will log this experiment in directory ./DQN_RND/@e_decay=50@disc_factor=0.95@global_reward=0.5@crit=L1@20240522-035802\n",
      "------------------------------------------\n",
      "------------------------------------------\n",
      "We will log this experiment in directory ./DQN_RND/@e_decay=50@disc_factor=0.95@global_reward=0.5@crit=L1@20240522-042949\n",
      "------------------------------------------\n",
      "------------------------------------------\n",
      "We will log this experiment in directory ./DQN_RND/@e_decay=50@disc_factor=0.95@global_reward=1@crit=MSE@20240522-050553\n",
      "------------------------------------------\n",
      "------------------------------------------\n",
      "We will log this experiment in directory ./DQN_RND/@e_decay=50@disc_factor=0.95@global_reward=1@crit=MSE@20240522-053443\n",
      "------------------------------------------\n",
      "------------------------------------------\n",
      "We will log this experiment in directory ./DQN_RND/@e_decay=50@disc_factor=0.95@global_reward=1@crit=MSE@20240522-060625\n",
      "------------------------------------------\n",
      "------------------------------------------\n",
      "We will log this experiment in directory ./DQN_RND/@e_decay=50@disc_factor=0.95@global_reward=1@crit=L1@20240522-064205\n",
      "------------------------------------------\n",
      "------------------------------------------\n",
      "We will log this experiment in directory ./DQN_RND/@e_decay=50@disc_factor=0.95@global_reward=1@crit=L1@20240522-071100\n",
      "------------------------------------------\n",
      "------------------------------------------\n",
      "We will log this experiment in directory ./DQN_RND/@e_decay=50@disc_factor=0.95@global_reward=1@crit=L1@20240522-074257\n",
      "------------------------------------------\n",
      "------------------------------------------\n",
      "We will log this experiment in directory ./DQN_RND/@e_decay=150@disc_factor=0.95@global_reward=0.25@crit=MSE@20240522-081858\n",
      "------------------------------------------\n",
      "------------------------------------------\n",
      "We will log this experiment in directory ./DQN_RND/@e_decay=150@disc_factor=0.95@global_reward=0.25@crit=MSE@20240522-084742\n",
      "------------------------------------------\n"
     ]
    }
   ],
   "source": [
    "for discount_factor in list_discount_factor:\n",
    "    for epsilon_decay in list_epsilon_decay:\n",
    "                for global_reward_factor in list_global_reward_factor:\n",
    "                    for criterion in list_criterion:\n",
    "                        for neurons_RND in list_neurons_RND:\n",
    "                            testDQN = DQNAgent(\n",
    "                            env,\n",
    "                            discount_factor=discount_factor,\n",
    "                            epsilon_decay=epsilon_decay,\n",
    "                            RND_reward=True,\n",
    "                            global_reward_factor=global_reward_factor,\n",
    "                            criterion=criterion,\n",
    "                            neurons_RND = neurons_RND\n",
    "                        )\n",
    "                            testDQN.run(3000, 64, 0.005)"
   ]
  },
  {
   "cell_type": "code",
   "execution_count": null,
   "metadata": {},
   "outputs": [],
   "source": [
    "plt.plot(testDQN.observations)"
   ]
  },
  {
   "cell_type": "code",
   "execution_count": null,
   "metadata": {},
   "outputs": [],
   "source": [
    "cumulative_environnement_reward = np.cumsum(environnement_reward)\n",
    "cumulative_total_reward = np.cumsum(total_reward)\n",
    "cumulative_auxiliary_reward = np.cumsum(auxiliary_reward)"
   ]
  },
  {
   "cell_type": "code",
   "execution_count": null,
   "metadata": {},
   "outputs": [],
   "source": [
    "plt.plot(environnement_reward)"
   ]
  },
  {
   "cell_type": "code",
   "execution_count": null,
   "metadata": {},
   "outputs": [],
   "source": [
    "plt.plot(cumulative_environnement_reward)"
   ]
  },
  {
   "cell_type": "code",
   "execution_count": null,
   "metadata": {},
   "outputs": [],
   "source": [
    "plt.plot(total_reward)"
   ]
  },
  {
   "cell_type": "code",
   "execution_count": null,
   "metadata": {},
   "outputs": [],
   "source": [
    "plt.plot(cumulative_total_reward)"
   ]
  },
  {
   "cell_type": "code",
   "execution_count": null,
   "metadata": {},
   "outputs": [],
   "source": [
    "plt.plot(auxiliary_reward)"
   ]
  },
  {
   "cell_type": "code",
   "execution_count": null,
   "metadata": {},
   "outputs": [],
   "source": [
    "plt.plot(cumulative_auxiliary_reward)"
   ]
  },
  {
   "cell_type": "code",
   "execution_count": null,
   "metadata": {},
   "outputs": [],
   "source": [
    "nb_episode = 1000\n",
    "success = np.zeros((nb_episode))\n",
    "success[(environnement_reward>-200)]=1\n",
    "cumul_success = np.cumsum(success)\n",
    "plt.plot(cumul_success)"
   ]
  },
  {
   "cell_type": "markdown",
   "metadata": {},
   "source": [
    "## DynaAgent"
   ]
  },
  {
   "cell_type": "code",
   "execution_count": null,
   "metadata": {},
   "outputs": [],
   "source": []
  }
 ],
 "metadata": {
  "kernelspec": {
   "display_name": "Python 3 (ipykernel)",
   "language": "python",
   "name": "python3"
  },
  "language_info": {
   "codemirror_mode": {
    "name": "ipython",
    "version": 3
   },
   "file_extension": ".py",
   "mimetype": "text/x-python",
   "name": "python",
   "nbconvert_exporter": "python",
   "pygments_lexer": "ipython3",
   "version": "3.9.19"
  }
 },
 "nbformat": 4,
 "nbformat_minor": 4
}
