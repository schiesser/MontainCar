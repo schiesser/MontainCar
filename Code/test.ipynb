{
 "cells": [
  {
   "cell_type": "markdown",
   "metadata": {},
   "source": [
    "# Mountain Car Miniproject Notebook"
   ]
  },
  {
   "cell_type": "code",
   "execution_count": 1,
   "metadata": {},
   "outputs": [],
   "source": [
    "from RandomAgent import RandomAgent\n",
    "from DQNAgent import DQNAgent\n",
    "import matplotlib.pyplot as plt\n",
    "import gymnasium as gym\n",
    "from collections import namedtuple, deque\n",
    "import numpy as np\n",
    "env = gym.make('MountainCar-v0')"
   ]
  },
  {
   "cell_type": "markdown",
   "metadata": {},
   "source": [
    "## Random Agent"
   ]
  },
  {
   "cell_type": "markdown",
   "metadata": {},
   "source": [
    "### Single random agent"
   ]
  },
  {
   "cell_type": "raw",
   "metadata": {},
   "source": [
    "test = RandomAgent(env)"
   ]
  },
  {
   "cell_type": "raw",
   "metadata": {},
   "source": [
    "test.run()"
   ]
  },
  {
   "cell_type": "raw",
   "metadata": {},
   "source": [
    "states = [ e[0] for e in test.observations]"
   ]
  },
  {
   "cell_type": "raw",
   "metadata": {},
   "source": [
    "states[1].shape"
   ]
  },
  {
   "cell_type": "raw",
   "metadata": {},
   "source": [
    "plt.plot(states)"
   ]
  },
  {
   "cell_type": "markdown",
   "metadata": {},
   "source": [
    "### Multiple random agent "
   ]
  },
  {
   "cell_type": "raw",
   "metadata": {},
   "source": [
    "num_episode=100\n",
    "episode_duration=[]\n",
    "for ep in range(num_episode):\n",
    "    new_random_agent = RandomAgent(env)\n",
    "    _ = new_random_agent.run()\n",
    "    duration = len(new_random_agent.observations)\n",
    "    episode_duration.append(duration)"
   ]
  },
  {
   "cell_type": "raw",
   "metadata": {},
   "source": [
    "plt.scatter(range(num_episode),episode_duration)"
   ]
  },
  {
   "cell_type": "markdown",
   "metadata": {},
   "source": [
    "## DQN Agent"
   ]
  },
  {
   "cell_type": "markdown",
   "metadata": {},
   "source": [
    "### heuristic reward function"
   ]
  },
  {
   "cell_type": "code",
   "execution_count": 2,
   "metadata": {},
   "outputs": [],
   "source": [
    "Transition = namedtuple('Transition',\n",
    "                        ('state', 'action', 'next_state', 'reward'))"
   ]
  },
  {
   "cell_type": "raw",
   "metadata": {},
   "source": [
    "testDQN = DQNAgent(env, heuristic_reward = True)"
   ]
  },
  {
   "cell_type": "raw",
   "metadata": {
    "scrolled": true
   },
   "source": [
    "environnement_reward, auxiliary_reward, total_reward= testDQN.run(500, 15, 0.005) #hyperparameter : parameter in the select_action !, try multiple scale of the reward, and then the classics for neural net..."
   ]
  },
  {
   "cell_type": "raw",
   "metadata": {},
   "source": [
    "cumulative_environnement_reward = np.cumsum(environnement_reward)\n",
    "cumulative_total_reward = np.cumsum(total_reward)\n",
    "cumulative_auxiliary_reward = np.cumsum(auxiliary_reward)"
   ]
  },
  {
   "cell_type": "raw",
   "metadata": {
    "scrolled": true
   },
   "source": [
    "plt.plot(testDQN.observations)"
   ]
  },
  {
   "cell_type": "raw",
   "metadata": {},
   "source": [
    "plt.plot(environnement_reward)"
   ]
  },
  {
   "cell_type": "raw",
   "metadata": {
    "scrolled": true
   },
   "source": [
    "plt.plot(cumulative_environnement_reward)"
   ]
  },
  {
   "cell_type": "raw",
   "metadata": {
    "scrolled": true
   },
   "source": [
    "plt.plot(total_reward)"
   ]
  },
  {
   "cell_type": "raw",
   "metadata": {
    "scrolled": true
   },
   "source": [
    "plt.plot(cumulative_total_reward)"
   ]
  },
  {
   "cell_type": "raw",
   "metadata": {
    "scrolled": true
   },
   "source": [
    "plt.plot(auxiliary_reward)"
   ]
  },
  {
   "cell_type": "raw",
   "metadata": {},
   "source": [
    "plt.plot(cumulative_auxiliary_reward)"
   ]
  },
  {
   "cell_type": "raw",
   "metadata": {},
   "source": [
    "nb_episode = 500\n",
    "success = np.zeros((nb_episode))\n",
    "success[(environnement_reward>-200)]=1\n",
    "cumul_success = np.cumsum(success)\n",
    "plt.plot(cumul_success)"
   ]
  },
  {
   "cell_type": "markdown",
   "metadata": {},
   "source": [
    "### RND reward"
   ]
  },
  {
   "cell_type": "code",
   "execution_count": 14,
   "metadata": {},
   "outputs": [],
   "source": [
    "testDQN = DQNAgent(env, RND_reward = True)"
   ]
  },
  {
   "cell_type": "code",
   "execution_count": 15,
   "metadata": {},
   "outputs": [
    {
     "name": "stderr",
     "output_type": "stream",
     "text": [
      "Exception ignored in: <bound method IPythonKernel._clean_thread_parent_frames of <ipykernel.ipkernel.IPythonKernel object at 0x0000027A567A4190>>\n",
      "Traceback (most recent call last):\n",
      "  File \"C:\\Users\\Thibault Schiesser\\anaconda3\\envs\\RL\\lib\\site-packages\\ipykernel\\ipkernel.py\", line 770, in _clean_thread_parent_frames\n",
      "    def _clean_thread_parent_frames(\n",
      "KeyboardInterrupt: \n",
      "Exception ignored in: <bound method IPythonKernel._clean_thread_parent_frames of <ipykernel.ipkernel.IPythonKernel object at 0x0000027A567A4190>>\n",
      "Traceback (most recent call last):\n",
      "  File \"C:\\Users\\Thibault Schiesser\\anaconda3\\envs\\RL\\lib\\site-packages\\ipykernel\\ipkernel.py\", line 770, in _clean_thread_parent_frames\n",
      "    def _clean_thread_parent_frames(\n",
      "KeyboardInterrupt: \n"
     ]
    },
    {
     "ename": "KeyboardInterrupt",
     "evalue": "",
     "output_type": "error",
     "traceback": [
      "\u001b[1;31m---------------------------------------------------------------------------\u001b[0m",
      "\u001b[1;31mKeyboardInterrupt\u001b[0m                         Traceback (most recent call last)",
      "Cell \u001b[1;32mIn[15], line 1\u001b[0m\n\u001b[1;32m----> 1\u001b[0m \u001b[43mtestDQN\u001b[49m\u001b[38;5;241;43m.\u001b[39;49m\u001b[43mrun\u001b[49m\u001b[43m(\u001b[49m\u001b[38;5;241;43m1000\u001b[39;49m\u001b[43m,\u001b[49m\u001b[43m \u001b[49m\u001b[38;5;241;43m15\u001b[39;49m\u001b[43m,\u001b[49m\u001b[43m \u001b[49m\u001b[38;5;241;43m0.005\u001b[39;49m\u001b[43m)\u001b[49m\n",
      "File \u001b[1;32m~\\OneDrive\\Bureau\\MA2\\Artificial neural networks reinforcement learning\\MountainCar\\Code\\DQNAgent.py:212\u001b[0m, in \u001b[0;36mDQNAgent.run\u001b[1;34m(self, number_episode, batch_size, learning_rate)\u001b[0m\n\u001b[0;32m    210\u001b[0m transitions \u001b[38;5;241m=\u001b[39m \u001b[38;5;28mlist\u001b[39m(total_replay_buffer_for_RND\u001b[38;5;241m.\u001b[39mmemory)\n\u001b[0;32m    211\u001b[0m past_data \u001b[38;5;241m=\u001b[39m total_replay_buffer_for_RND\u001b[38;5;241m.\u001b[39mTransition(\u001b[38;5;241m*\u001b[39m\u001b[38;5;28mzip\u001b[39m(\u001b[38;5;241m*\u001b[39mtransitions))\n\u001b[1;32m--> 212\u001b[0m past_states \u001b[38;5;241m=\u001b[39m \u001b[43mtorch\u001b[49m\u001b[38;5;241;43m.\u001b[39;49m\u001b[43mstack\u001b[49m\u001b[43m(\u001b[49m\u001b[43mpast_data\u001b[49m\u001b[38;5;241;43m.\u001b[39;49m\u001b[43mstate\u001b[49m\u001b[43m)\u001b[49m \u001b[38;5;66;03m#extract state from the memory of transitions + convert list of tensor to a single tensor\u001b[39;00m\n\u001b[0;32m    213\u001b[0m mean_states \u001b[38;5;241m=\u001b[39m past_states\u001b[38;5;241m.\u001b[39mmean(dim\u001b[38;5;241m=\u001b[39m\u001b[38;5;241m0\u001b[39m)\n\u001b[0;32m    215\u001b[0m std_state \u001b[38;5;241m=\u001b[39m past_states\u001b[38;5;241m.\u001b[39mstd(dim\u001b[38;5;241m=\u001b[39m\u001b[38;5;241m0\u001b[39m)\n",
      "\u001b[1;31mKeyboardInterrupt\u001b[0m: "
     ]
    }
   ],
   "source": [
    "testDQN.run(1000, 15, 0.005)"
   ]
  },
  {
   "cell_type": "code",
   "execution_count": null,
   "metadata": {},
   "outputs": [],
   "source": [
    "plt.plot(testDQN.observations)"
   ]
  },
  {
   "cell_type": "markdown",
   "metadata": {},
   "source": [
    "## DynaAgent"
   ]
  },
  {
   "cell_type": "code",
   "execution_count": null,
   "metadata": {},
   "outputs": [],
   "source": []
  }
 ],
 "metadata": {
  "kernelspec": {
   "display_name": "Python 3 (ipykernel)",
   "language": "python",
   "name": "python3"
  },
  "language_info": {
   "codemirror_mode": {
    "name": "ipython",
    "version": 3
   },
   "file_extension": ".py",
   "mimetype": "text/x-python",
   "name": "python",
   "nbconvert_exporter": "python",
   "pygments_lexer": "ipython3",
   "version": "3.9.19"
  }
 },
 "nbformat": 4,
 "nbformat_minor": 4
}
