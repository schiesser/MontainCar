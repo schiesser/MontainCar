{
 "cells": [
  {
   "cell_type": "code",
   "execution_count": 1,
   "metadata": {},
   "outputs": [],
   "source": [
    "from DynaAgent import DynaAgent\n",
    "import matplotlib.pyplot as plt\n",
    "import gymnasium as gym\n",
    "import numpy as np\n",
    "env = gym.make('MountainCar-v0')"
   ]
  },
  {
   "cell_type": "code",
   "execution_count": 2,
   "metadata": {},
   "outputs": [],
   "source": [
    "testDyna = DynaAgent(env)"
   ]
  },
  {
   "cell_type": "code",
   "execution_count": 3,
   "metadata": {},
   "outputs": [
    {
     "name": "stdout",
     "output_type": "stream",
     "text": [
      "Episode 1 completed.\n",
      "Episode 2 completed.\n",
      "Episode 3 completed.\n",
      "Episode 4 completed.\n",
      "Episode 5 completed.\n",
      "Episode 6 completed.\n",
      "Episode 7 completed.\n",
      "Episode 8 completed.\n",
      "Episode 9 completed.\n",
      "Episode 10 completed.\n",
      "Episode 11 completed.\n",
      "Episode 12 completed.\n",
      "Episode 13 completed.\n",
      "Episode 14 completed.\n",
      "Episode 15 completed.\n",
      "Episode 16 completed.\n",
      "Episode 17 completed.\n",
      "Episode 18 completed.\n",
      "Episode 19 completed.\n",
      "Episode 20 completed.\n",
      "Episode 21 completed.\n",
      "Episode 22 completed.\n",
      "Episode 23 completed.\n",
      "Episode 24 completed.\n",
      "Episode 25 completed.\n",
      "Episode 26 completed.\n",
      "Episode 27 completed.\n",
      "Episode 28 completed.\n",
      "Episode 29 completed.\n",
      "Episode 30 completed.\n",
      "Episode 31 completed.\n",
      "Episode 32 completed.\n",
      "Episode 33 completed.\n",
      "Episode 34 completed.\n",
      "Episode 35 completed.\n",
      "Episode 36 completed.\n",
      "Episode 37 completed.\n",
      "Episode 38 completed.\n",
      "Episode 39 completed.\n",
      "Episode 40 completed.\n",
      "Episode 41 completed.\n",
      "Episode 42 completed.\n",
      "Episode 43 completed.\n",
      "Episode 44 completed.\n",
      "Episode 45 completed.\n",
      "Episode 46 completed.\n",
      "Episode 47 completed.\n",
      "Episode 48 completed.\n",
      "Episode 49 completed.\n",
      "Episode 50 completed.\n",
      "Episode 51 completed.\n",
      "Episode 52 completed.\n",
      "Episode 53 completed.\n",
      "Episode 54 completed.\n",
      "Episode 55 completed.\n",
      "Episode 56 completed.\n",
      "Episode 57 completed.\n",
      "Episode 58 completed.\n",
      "Episode 59 completed.\n",
      "Episode 60 completed.\n",
      "Episode 61 completed.\n",
      "Episode 62 completed.\n",
      "Episode 63 completed.\n",
      "Episode 64 completed.\n",
      "Episode 65 completed.\n"
     ]
    }
   ],
   "source": [
    "total_reward = testDyna.run(num_episodes=100)"
   ]
  },
  {
   "cell_type": "code",
   "execution_count": null,
   "metadata": {},
   "outputs": [],
   "source": [
    "plt.plot(total_reward)"
   ]
  },
  {
   "cell_type": "code",
   "execution_count": null,
   "metadata": {},
   "outputs": [
    {
     "name": "stdout",
     "output_type": "stream",
     "text": [
      "[0. 0. 0.]\n"
     ]
    }
   ],
   "source": []
  },
  {
   "cell_type": "code",
   "execution_count": null,
   "metadata": {},
   "outputs": [],
   "source": []
  }
 ],
 "metadata": {
  "kernelspec": {
   "display_name": "Python 3",
   "language": "python",
   "name": "python3"
  },
  "language_info": {
   "codemirror_mode": {
    "name": "ipython",
    "version": 3
   },
   "file_extension": ".py",
   "mimetype": "text/x-python",
   "name": "python",
   "nbconvert_exporter": "python",
   "pygments_lexer": "ipython3",
   "version": "3.12.0"
  }
 },
 "nbformat": 4,
 "nbformat_minor": 2
}
